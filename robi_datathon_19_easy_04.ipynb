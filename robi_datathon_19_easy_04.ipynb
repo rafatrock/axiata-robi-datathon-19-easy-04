{
  "nbformat": 4,
  "nbformat_minor": 0,
  "metadata": {
    "colab": {
      "name": "robi-datathon-19-easy-04",
      "version": "0.3.2",
      "provenance": [],
      "collapsed_sections": [],
      "toc_visible": true
    },
    "kernelspec": {
      "name": "python3",
      "display_name": "Python 3"
    },
    "accelerator": "GPU"
  },
  "cells": [
    {
      "metadata": {
        "id": "_ZYxOI1mGNV1",
        "colab_type": "text"
      },
      "cell_type": "markdown",
      "source": [
        "#Step 01. Install All Dependencies\n",
        "\n",
        "This installs Apache Spark 2.3.3, Java 8, Findspark library that makes it easy for Python to work on the given Big Data."
      ]
    },
    {
      "metadata": {
        "id": "MG5jn29qF91X",
        "colab_type": "code",
        "outputId": "6dc8d3f8-5035-4179-9415-61d19c5148de",
        "colab": {
          "base_uri": "https://localhost:8080/",
          "height": 34
        }
      },
      "cell_type": "code",
      "source": [
        "import os\n",
        "#OpenJDK Dependencies for Spark\n",
        "os.system('apt-get install openjdk-8-jdk-headless -qq > /dev/null')\n",
        "\n",
        "#Download Apache Spark\n",
        "os.system('wget -q http://apache.osuosl.org/spark/spark-2.3.3/spark-2.3.3-bin-hadoop2.7.tgz') \n",
        "\n",
        "#Apache Spark and Hadoop Unzip\n",
        "os.system('tar xf spark-2.3.3-bin-hadoop2.7.tgz')\n",
        "\n",
        "#FindSpark Install\n",
        "os.system('pip install -q findspark')"
      ],
      "execution_count": 1,
      "outputs": [
        {
          "output_type": "execute_result",
          "data": {
            "text/plain": [
              "0"
            ]
          },
          "metadata": {
            "tags": []
          },
          "execution_count": 1
        }
      ]
    },
    {
      "metadata": {
        "id": "uE_C9VOSHOKy",
        "colab_type": "text"
      },
      "cell_type": "markdown",
      "source": [
        "# Step 02. Set Environment Variables\n",
        "Set the locations where Spark and Java are installed based on your installation configuration. Double check before you proceed."
      ]
    },
    {
      "metadata": {
        "id": "qrOQoyMmHRPL",
        "colab_type": "code",
        "colab": {}
      },
      "cell_type": "code",
      "source": [
        "import os\n",
        "os.environ[\"JAVA_HOME\"] = \"/usr/lib/jvm/java-8-openjdk-amd64\"\n",
        "os.environ[\"SPARK_HOME\"] = \"/content/spark-2.3.3-bin-hadoop2.7\""
      ],
      "execution_count": 0,
      "outputs": []
    },
    {
      "metadata": {
        "id": "qY1GD4JslzUH",
        "colab_type": "text"
      },
      "cell_type": "markdown",
      "source": [
        "# Step 03. ELT - Load the Data: Mega Cloud Access\n",
        "This is an alternative approach to load datasets from already stored in [**Mega Cloud**](https://mega.nz) cloud repository. You need to install the necessary packages and put the link URL of cloud to load the file from cloud directly."
      ]
    },
    {
      "metadata": {
        "id": "LCqsmO2fl_9Y",
        "colab_type": "code",
        "outputId": "39bd969c-68cc-45ad-97f9-1c2e4ac519d5",
        "colab": {
          "base_uri": "https://localhost:8080/",
          "height": 34
        }
      },
      "cell_type": "code",
      "source": [
        "import os\n",
        "os.system('git clone https://github.com/jeroenmeulenaar/python3-mega.git')\n",
        "os.chdir('python3-mega')\n",
        "os.system('pip install -r requirements.txt')"
      ],
      "execution_count": 3,
      "outputs": [
        {
          "output_type": "execute_result",
          "data": {
            "text/plain": [
              "0"
            ]
          },
          "metadata": {
            "tags": []
          },
          "execution_count": 3
        }
      ]
    },
    {
      "metadata": {
        "id": "BAYD5dmomHgL",
        "colab_type": "text"
      },
      "cell_type": "markdown",
      "source": [
        "# Step 04. ELT - Load the Data: Read Uploaded Dataset\n",
        "In this approach you can directly load the uploaded dataset downloaded fro Mega Cloud Infrastructure"
      ]
    },
    {
      "metadata": {
        "id": "CCWFVfBsmM03",
        "colab_type": "code",
        "colab": {}
      },
      "cell_type": "code",
      "source": [
        "from mega import Mega\n",
        "os.chdir('../')\n",
        "m_revenue = Mega.from_ephemeral()\n",
        "m_revenue.download_from_url('https://mega.nz/#!1lJH3Q4K!N94-KRSyn22FPb0yxiVJgndjxUStdlfC2_prWDYI2f0')"
      ],
      "execution_count": 0,
      "outputs": []
    },
    {
      "metadata": {
        "id": "9iRVypEMHiDe",
        "colab_type": "text"
      },
      "cell_type": "markdown",
      "source": [
        "# Step 05. Start a Spark Session\n",
        "This basic code will prepare to start a Spark session."
      ]
    },
    {
      "metadata": {
        "id": "vrW7H-rmHmFm",
        "colab_type": "code",
        "colab": {}
      },
      "cell_type": "code",
      "source": [
        "import findspark\n",
        "findspark.init()\n",
        "from pyspark.sql import SparkSession\n",
        "spark = SparkSession.builder.appName('ml-datathon19-easy04').master(\"local[*]\").getOrCreate()"
      ],
      "execution_count": 0,
      "outputs": []
    },
    {
      "metadata": {
        "id": "vyv5qDPL2RCp",
        "colab_type": "text"
      },
      "cell_type": "markdown",
      "source": [
        "# Step 06. Exploration - Data Schema View\n",
        "Now let's load the DataFrame and see the schema view of the Spark dataset"
      ]
    },
    {
      "metadata": {
        "id": "KPXZWq4X2RMV",
        "colab_type": "code",
        "outputId": "62230331-4bc1-4445-b2bd-f928c8e438cc",
        "colab": {
          "base_uri": "https://localhost:8080/",
          "height": 102
        }
      },
      "cell_type": "code",
      "source": [
        "df = spark.read.csv('revenue.csv', header = True, inferSchema = True)\n",
        "df.printSchema()"
      ],
      "execution_count": 6,
      "outputs": [
        {
          "output_type": "stream",
          "text": [
            "root\n",
            " |-- msisdn: string (nullable = true)\n",
            " |-- week_number: integer (nullable = true)\n",
            " |-- revenue_usd: double (nullable = true)\n",
            "\n"
          ],
          "name": "stdout"
        }
      ]
    },
    {
      "metadata": {
        "id": "0QIDzJSb-4nh",
        "colab_type": "text"
      },
      "cell_type": "markdown",
      "source": [
        "# Step 07. Exploration - More Statistical Insights from Data\n",
        "Now we'll grab total number of entries and other statistical analysis of the Spark dataset to have an overview of data"
      ]
    },
    {
      "metadata": {
        "id": "gSA4uWpd9-jL",
        "colab_type": "code",
        "outputId": "5aaadb79-0cf2-4c50-8bcc-2a1b9e65b578",
        "colab": {
          "base_uri": "https://localhost:8080/",
          "height": 187
        }
      },
      "cell_type": "code",
      "source": [
        "df.describe().show() "
      ],
      "execution_count": 7,
      "outputs": [
        {
          "output_type": "stream",
          "text": [
            "+-------+--------------------+------------------+--------------------+\n",
            "|summary|              msisdn|       week_number|         revenue_usd|\n",
            "+-------+--------------------+------------------+--------------------+\n",
            "|  count|            28755967|          28755967|            28755967|\n",
            "|   mean|3.207318550755298E31|28.811598545790513|  11.326884020257502|\n",
            "| stddev|                 0.0| 4.043789537464958|  6.0085535870539735|\n",
            "|    min|00000312304d5ee32...|                22|5.158072668697356E-4|\n",
            "|    max|fffffdf74b6520955...|                35|   621.5236222433649|\n",
            "+-------+--------------------+------------------+--------------------+\n",
            "\n"
          ],
          "name": "stdout"
        }
      ]
    },
    {
      "metadata": {
        "id": "LJWm-tno9gq0",
        "colab_type": "text"
      },
      "cell_type": "markdown",
      "source": [
        "# Step 08. Exploration - Total Unique Row Count\n",
        "Now we'll grab total number of unique entries or unique row count of the Spark dataset to have an overview of duplicate data"
      ]
    },
    {
      "metadata": {
        "id": "2qF1rbIN7XTo",
        "colab_type": "code",
        "outputId": "e562cc8a-ea42-4246-b6a6-c3d8aa6c75ae",
        "colab": {
          "base_uri": "https://localhost:8080/",
          "height": 51
        }
      },
      "cell_type": "code",
      "source": [
        "print(\"Unique Rows: \")\n",
        "df.distinct().count()"
      ],
      "execution_count": 8,
      "outputs": [
        {
          "output_type": "stream",
          "text": [
            "Unique Rows: \n"
          ],
          "name": "stdout"
        },
        {
          "output_type": "execute_result",
          "data": {
            "text/plain": [
              "28755967"
            ]
          },
          "metadata": {
            "tags": []
          },
          "execution_count": 8
        }
      ]
    },
    {
      "metadata": {
        "id": "Qiqc1vi609iy",
        "colab_type": "text"
      },
      "cell_type": "markdown",
      "source": [
        "# Step 09. Exploration - Reviewing the NULL values in each column\n",
        "Since the total row count and unique row count are same, it means there is no duplicate rows in the table. Now we'll grab the count of NULL values per column to check whether any missing values is there or not."
      ]
    },
    {
      "metadata": {
        "id": "S198lgo6zcFn",
        "colab_type": "code",
        "outputId": "1434257f-8890-46f8-f8b4-597830ecd64b",
        "colab": {
          "base_uri": "https://localhost:8080/",
          "height": 119
        }
      },
      "cell_type": "code",
      "source": [
        "import pyspark.sql.functions as F\n",
        "df_agg = df.agg(*[F.count(F.when(F.isnull(c), c)).alias(c) for c in df.columns])\n",
        "df_agg.show()"
      ],
      "execution_count": 9,
      "outputs": [
        {
          "output_type": "stream",
          "text": [
            "+------+-----------+-----------+\n",
            "|msisdn|week_number|revenue_usd|\n",
            "+------+-----------+-----------+\n",
            "|     0|          0|          0|\n",
            "+------+-----------+-----------+\n",
            "\n"
          ],
          "name": "stdout"
        }
      ]
    },
    {
      "metadata": {
        "id": "Rh7ZYyVkW5Dh",
        "colab_type": "text"
      },
      "cell_type": "markdown",
      "source": [
        "# Step 10. Exploration - Filtering the NULL values rows of Model entries\n",
        "As there remains no `NULL` values, we can straightly apply the filter scheme to select only `revenue_usd` for `week_number = 34` "
      ]
    },
    {
      "metadata": {
        "id": "8gnNrnykQqhI",
        "colab_type": "code",
        "colab": {}
      },
      "cell_type": "code",
      "source": [
        "df2 = df.filter(df.week_number==34)"
      ],
      "execution_count": 0,
      "outputs": []
    },
    {
      "metadata": {
        "id": "PZfgybnr95iA",
        "colab_type": "text"
      },
      "cell_type": "markdown",
      "source": [
        "# Step 11. Implementation - Run the SQL Command\n",
        "Now on the filtered dataset, we can apply `approxQuantile()` function to get the desired Qunatiles"
      ]
    },
    {
      "metadata": {
        "id": "EA037xxSLEfF",
        "colab_type": "code",
        "outputId": "a377e326-82b0-4617-8859-24cf36b3b91b",
        "colab": {
          "base_uri": "https://localhost:8080/",
          "height": 119
        }
      },
      "cell_type": "code",
      "source": [
        "print(\"Quantile 0.10:\")\n",
        "print(df2.approxQuantile(\"revenue_usd\", [0.1], 0))\n",
        "print(\"Quantile 0.25:\")\n",
        "print(df2.approxQuantile(\"revenue_usd\", [0.25], 0))\n",
        "print(\"Quantile 0.75:\")\n",
        "print(df2.approxQuantile(\"revenue_usd\", [0.75], 0))"
      ],
      "execution_count": 11,
      "outputs": [
        {
          "output_type": "stream",
          "text": [
            "Quantile 0.10:\n",
            "[3.7233584084182585]\n",
            "Quantile 0.25:\n",
            "[6.905825849288114]\n",
            "Quantile 0.75:\n",
            "[16.975276533928643]\n"
          ],
          "name": "stdout"
        }
      ]
    }
  ]
}